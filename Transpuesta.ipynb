{
  "nbformat": 4,
  "nbformat_minor": 0,
  "metadata": {
    "colab": {
      "provenance": [],
      "authorship_tag": "ABX9TyNUfflJOnygL3ZOS1MetQ0W",
      "include_colab_link": true
    },
    "kernelspec": {
      "name": "python3",
      "display_name": "Python 3"
    },
    "language_info": {
      "name": "python"
    }
  },
  "cells": [
    {
      "cell_type": "markdown",
      "metadata": {
        "id": "view-in-github",
        "colab_type": "text"
      },
      "source": [
        "<a href=\"https://colab.research.google.com/github/Diegoarmando24/Tarea-1/blob/main/Transpuesta.ipynb\" target=\"_parent\"><img src=\"https://colab.research.google.com/assets/colab-badge.svg\" alt=\"Open In Colab\"/></a>"
      ]
    },
    {
      "cell_type": "markdown",
      "source": [
        "# **Ejercicio 1.4**"
      ],
      "metadata": {
        "id": "bQ-rNX-jcxc-"
      }
    },
    {
      "cell_type": "code",
      "source": [
        "def transpuesta_conjugada(Mat):\n",
        "    \"\"\"\n",
        "    Calcula la transpuesta conjugada de una matriz.\n",
        "\n",
        "    Parámetros:\n",
        "    Mat (list): Matriz de números complejos.\n",
        "\n",
        "    Retorna:\n",
        "    list: Matriz transpuesta conjugada.\n",
        "    \"\"\"\n",
        "    filas = len(Mat)\n",
        "    columnas = len(Mat[0])\n",
        "    transpuesta = [[0 for _ in range(filas)] for _ in range(columnas)]\n",
        "\n",
        "    for i in range(filas):\n",
        "        for j in range(columnas):\n",
        "            transpuesta[j][i] = Mat[i][j].conjugate()\n",
        "\n",
        "    return transpuesta\n",
        "\n",
        "# Ejemplo de uso\n",
        "matriz = [[2 + 1j, 3 - 2j], [1 - 1j, 4 + 0j]]\n",
        "resultado = transpuesta_conjugada(matriz)\n",
        "print(resultado)"
      ],
      "metadata": {
        "colab": {
          "base_uri": "https://localhost:8080/"
        },
        "id": "Qx7aqxL0Irel",
        "outputId": "0acc16a8-b3d9-4f87-d2e8-f628109807e0"
      },
      "execution_count": 1,
      "outputs": [
        {
          "output_type": "stream",
          "name": "stdout",
          "text": [
            "[[(2-1j), (1+1j)], [(3+2j), (4-0j)]]\n"
          ]
        }
      ]
    }
  ]
}