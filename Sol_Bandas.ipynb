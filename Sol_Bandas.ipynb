{
  "nbformat": 4,
  "nbformat_minor": 0,
  "metadata": {
    "colab": {
      "provenance": [],
      "authorship_tag": "ABX9TyMdR8AvSzf/jMEnGYqaDTp2",
      "include_colab_link": true
    },
    "kernelspec": {
      "name": "python3",
      "display_name": "Python 3"
    },
    "language_info": {
      "name": "python"
    }
  },
  "cells": [
    {
      "cell_type": "markdown",
      "metadata": {
        "id": "view-in-github",
        "colab_type": "text"
      },
      "source": [
        "<a href=\"https://colab.research.google.com/github/Diegoarmando24/Tarea-1/blob/main/Sol_Bandas.ipynb\" target=\"_parent\"><img src=\"https://colab.research.google.com/assets/colab-badge.svg\" alt=\"Open In Colab\"/></a>"
      ]
    },
    {
      "cell_type": "code",
      "execution_count": null,
      "metadata": {
        "id": "3-IeYpLhNhba"
      },
      "outputs": [],
      "source": []
    },
    {
      "cell_type": "markdown",
      "source": [
        "# **Ejercicio 2.3**"
      ],
      "metadata": {
        "id": "aQMmUBm5xDux"
      }
    },
    {
      "cell_type": "code",
      "source": [
        "def SolBandas(matriz, b):\n",
        "    \"\"\"\n",
        "    Resuelve un sistema de ecuaciones lineales con una matriz de dos bandas.\n",
        "\n",
        "    Parámetros:\n",
        "    matriz (np.array): Matriz de coeficientes.\n",
        "    b (np.array): Vector de términos independientes.\n",
        "\n",
        "    Retorna:\n",
        "    np.array: Vector solución.\n",
        "    \"\"\"\n",
        "    x = np.zeros_like(b)\n",
        "    if np.any(np.diagonal(matriz, offset=1) == 0) and np.any(np.diagonal(matriz, offset=-1)) != 0:\n",
        "        # Sustitución hacia adelante\n",
        "        for i in range(len(matriz)):\n",
        "            x[i] = (b[i] - matriz[i, i - 1] * x[i - 1]) / matriz[i, i]\n",
        "    elif np.any(np.diagonal(matriz, offset=1) != 0) and np.any(np.diagonal(matriz, offset=-1)) == 0:\n",
        "        # Sustitución hacia atrás\n",
        "        for i in range(len(matriz) - 1, -1, -1):\n",
        "            if i == len(matriz) - 1:\n",
        "                x[i] = b[i] / matriz[i, i]\n",
        "            else:\n",
        "                x[i] = (b[i] - matriz[i, i + 1] * x[i + 1]) / matriz[i, i]\n",
        "    return x\n",
        "\n",
        "\n",
        "# Ejemplo de uso\n",
        "A = np.array([[1, 1, 0],\n",
        "              [0, -1, 3],\n",
        "              [0, 0, -1]])\n",
        "b = [1, 1, 1]\n",
        "\n",
        "print(\"Solución del sistema de bandas:\", SolBandas(A, b))"
      ],
      "metadata": {
        "colab": {
          "base_uri": "https://localhost:8080/"
        },
        "id": "UdbQHl-Qolaz",
        "outputId": "3b87910a-83a0-48ee-d558-ea1beba73bf6"
      },
      "execution_count": null,
      "outputs": [
        {
          "output_type": "stream",
          "name": "stdout",
          "text": [
            "Solución del sistema de bandas: [ 5 -4 -1]\n"
          ]
        }
      ]
    }
  ]
}