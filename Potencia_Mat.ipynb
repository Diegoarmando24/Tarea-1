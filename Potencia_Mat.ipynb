{
  "nbformat": 4,
  "nbformat_minor": 0,
  "metadata": {
    "colab": {
      "provenance": [],
      "authorship_tag": "ABX9TyN+y3s6J14LSfPSaA9xlukF",
      "include_colab_link": true
    },
    "kernelspec": {
      "name": "python3",
      "display_name": "Python 3"
    },
    "language_info": {
      "name": "python"
    }
  },
  "cells": [
    {
      "cell_type": "markdown",
      "metadata": {
        "id": "view-in-github",
        "colab_type": "text"
      },
      "source": [
        "<a href=\"https://colab.research.google.com/github/Diegoarmando24/Tarea-1/blob/main/Potencia_Mat.ipynb\" target=\"_parent\"><img src=\"https://colab.research.google.com/assets/colab-badge.svg\" alt=\"Open In Colab\"/></a>"
      ]
    },
    {
      "cell_type": "markdown",
      "source": [
        "# **Ejercicio 1.5**"
      ],
      "metadata": {
        "id": "wgXZUvGrugM4"
      }
    },
    {
      "cell_type": "code",
      "source": [
        "def multiplicar_matrices(A, B):\n",
        "    \"\"\"\n",
        "    Multiplica dos matrices de tamaño 50x50.\n",
        "\n",
        "    Parámetros:\n",
        "    A (list): Primera matriz.\n",
        "    B (list): Segunda matriz.\n",
        "\n",
        "    Retorna:\n",
        "    list: Matriz resultante de la multiplicación.\n",
        "    \"\"\"\n",
        "    tamaño = len(A)\n",
        "    resultado = [[0 for _ in range(tamaño)] for _ in range(tamaño)]\n",
        "\n",
        "    for i in range(tamaño):\n",
        "        for j in range(tamaño):\n",
        "            suma = 0\n",
        "            for k in range(tamaño):\n",
        "                suma += A[i][k] * B[k][j]\n",
        "            resultado[i][j] = suma\n",
        "\n",
        "    return resultado\n",
        "\n",
        "def potencia_matriz(A, n):\n",
        "    \"\"\"\n",
        "    Calcula la potencia n-ésima de una matriz de tamaño 50x50.\n",
        "\n",
        "    Parámetros:\n",
        "    A (list): Matriz a elevar.\n",
        "    n (int): Potencia a la que se elevará la matriz.\n",
        "\n",
        "    Retorna:\n",
        "    list: Matriz resultante de la potencia.\n",
        "    \"\"\"\n",
        "    tamaño = len(A)\n",
        "    resultado = [[1 if i == j else 0 for j in range(tamaño)] for i in range(tamaño)]\n",
        "\n",
        "    for _ in range(n):\n",
        "        resultado = multiplicar_matrices(resultado, A)\n",
        "\n",
        "    return resultado\n",
        "\n",
        "# Ejemplo de uso\n",
        "import random\n",
        "\n",
        "tamaño = 50\n",
        "matriz = [[random.random() for _ in range(tamaño)] for _ in range(tamaño)]\n",
        "n = 3\n",
        "matriz_potencia = potencia_matriz(matriz, n)\n",
        "\n",
        "# Mostrar algunos elementos de la matriz resultante\n",
        "for fila in matriz_potencia[:5]:\n",
        "    print(fila[:5])"
      ],
      "metadata": {
        "colab": {
          "base_uri": "https://localhost:8080/"
        },
        "id": "EMaZRSx_JAGX",
        "outputId": "fd88d96d-f55d-4d69-d4c7-be73e7c9c9b3"
      },
      "execution_count": 1,
      "outputs": [
        {
          "output_type": "stream",
          "name": "stdout",
          "text": [
            "[320.1584445672057, 341.6496322924817, 304.05001395867043, 288.83692671801, 297.5590562175412]\n",
            "[324.47060774412125, 346.3946063373429, 308.54325695823525, 293.7769445792262, 302.76469220063495]\n",
            "[329.7642641779067, 349.8073807478871, 312.4237146549159, 292.90050691933004, 304.83772307244897]\n",
            "[322.5559537064518, 342.77211431935115, 306.9175533947148, 289.48586416217603, 298.08125467718986]\n",
            "[324.77182447922047, 344.9898530865635, 308.2872032160022, 289.19331415844476, 298.6453089164587]\n"
          ]
        }
      ]
    }
  ]
}