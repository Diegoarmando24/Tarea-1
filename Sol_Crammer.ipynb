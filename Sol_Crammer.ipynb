{
  "nbformat": 4,
  "nbformat_minor": 0,
  "metadata": {
    "colab": {
      "provenance": [],
      "authorship_tag": "ABX9TyOXheariN9KIAM3/MWLoq5t",
      "include_colab_link": true
    },
    "kernelspec": {
      "name": "python3",
      "display_name": "Python 3"
    },
    "language_info": {
      "name": "python"
    }
  },
  "cells": [
    {
      "cell_type": "markdown",
      "metadata": {
        "id": "view-in-github",
        "colab_type": "text"
      },
      "source": [
        "<a href=\"https://colab.research.google.com/github/Diegoarmando24/Tarea-1/blob/main/Sol_Crammer.ipynb\" target=\"_parent\"><img src=\"https://colab.research.google.com/assets/colab-badge.svg\" alt=\"Open In Colab\"/></a>"
      ]
    },
    {
      "cell_type": "markdown",
      "source": [
        "# **Tarea 1**\n",
        "*Integrantes:*\n",
        "\n",
        "\n",
        "*   Castillo Saldivar Paola\n",
        "*   Islas Castro Diego Armando\n",
        "*   Maldonado Cruz Josué Iván    \n",
        "\n"
      ],
      "metadata": {
        "id": "sqx5GUbMo8fY"
      }
    },
    {
      "cell_type": "markdown",
      "source": [
        "# **Ejercicio 2.1**"
      ],
      "metadata": {
        "id": "1SyfOlAyN4bo"
      }
    },
    {
      "cell_type": "code",
      "source": [
        "import numpy as np\n",
        "\n",
        "def SubMat(Mat, ren, col):\n",
        "    \"\"\"\n",
        "    Obtiene una submatriz eliminando un renglón y una columna específicos.\n",
        "\n",
        "    Parámetros:\n",
        "    Mat (np.array): Matriz original.\n",
        "    ren (int): Índice del renglón a eliminar.\n",
        "    col (int): Índice de la columna a eliminar.\n",
        "\n",
        "    Retorna:\n",
        "    np.array: Submatriz resultante.\n",
        "    \"\"\"\n",
        "    M1 = np.copy(Mat)\n",
        "    M1 = np.delete(M1, ren, axis=0)\n",
        "    M1 = np.delete(M1, col, axis=1)\n",
        "    return M1\n",
        "\n",
        "\n",
        "def det(matriz):\n",
        "    \"\"\"\n",
        "    Calcula el determinante de una matriz cuadrada de manera recursiva.\n",
        "\n",
        "    Parámetros:\n",
        "    matriz (np.array): Matriz cuadrada.\n",
        "\n",
        "    Retorna:\n",
        "    float: Determinante de la matriz.\n",
        "    \"\"\"\n",
        "    # Caso base: matriz 2x2\n",
        "    if matriz.shape[0] == 2 and matriz.shape[1] == 2:\n",
        "        return matriz[0][0] * matriz[1][1] - (matriz[0][1] * matriz[1][0])\n",
        "\n",
        "    else:\n",
        "        deter = 0.0\n",
        "        for col in range(matriz.shape[0]):\n",
        "            deter += ((-1) ** col) * matriz[0][col] * det(SubMat(matriz, 0, col))\n",
        "        return deter\n",
        "\n",
        "\n",
        "def cramer(matriz, b):\n",
        "    \"\"\"\n",
        "    Resuelve un sistema de ecuaciones lineales usando el método de Cramer.\n",
        "\n",
        "    Parámetros:\n",
        "    matriz (np.array): Matriz de coeficientes.\n",
        "    b (np.array): Vector de términos independientes.\n",
        "\n",
        "    Retorna:\n",
        "    np.array: Vector solución.\n",
        "    \"\"\"\n",
        "    det_A = det(matriz)\n",
        "\n",
        "    if det_A == 0 or (matriz.shape[0] != len(matriz)):\n",
        "        return \"No se puede resolver con Crammer, el determinante de la matriz es 0 o la matriz no es cuadrada\"\n",
        "    else:\n",
        "        x = np.zeros_like(b)\n",
        "        for j in range(matriz.shape[0]):\n",
        "            aux = np.copy(matriz)\n",
        "            aux[:, j] = b\n",
        "            x[j] = det(aux) / det_A\n",
        "        return x\n",
        "\n",
        "\n",
        "# Ejemplo de uso\n",
        "A = np.array([[1, 1, 1],\n",
        "              [1, -1, 2],\n",
        "              [3, 1, -1]])\n",
        "b = [15, 10, 25]\n",
        "\n",
        "\n",
        "#Calculamos con inversa y paquetería\n",
        "from numpy import linalg as LA\n",
        "\n",
        "def Transpuesta(Mat):\n",
        "    \"\"\"\n",
        "    Calcula la transpuesta de una matriz.\n",
        "\n",
        "    Parámetros:\n",
        "    Mat (np.array): Matriz de entrada.\n",
        "\n",
        "    Retorna:\n",
        "    np.array: Matriz transpuesta.\n",
        "    \"\"\"\n",
        "    return np.transpose(Mat)\n",
        "\n",
        "\n",
        "def Cofactores(Mat):\n",
        "    \"\"\"\n",
        "    Calcula la matriz de cofactores de una matriz cuadrada.\n",
        "\n",
        "    Parámetros:\n",
        "    Mat (np.array): Matriz cuadrada.\n",
        "\n",
        "    Retorna:\n",
        "    np.array: Matriz de cofactores.\n",
        "    \"\"\"\n",
        "    Cofa = np.zeros_like(Mat, dtype=float)\n",
        "    for ren in range(Mat.shape[0]):\n",
        "        for col in range(Mat.shape[1]):\n",
        "            Cofa[ren, col] = ((-1) ** (ren + col)) * det(SubMat(Mat, ren, col))\n",
        "    return Cofa\n",
        "\n",
        "\n",
        "def Inv(Mat):\n",
        "    \"\"\"\n",
        "    Calcula la inversa de una matriz cuadrada.\n",
        "\n",
        "    Parámetros:\n",
        "    Mat (np.array): Matriz cuadrada.\n",
        "\n",
        "    Retorna:\n",
        "    np.array: Matriz inversa.\n",
        "\n",
        "    Lanza:\n",
        "    ValueError: Si la matriz es singular (determinante = 0).\n",
        "    \"\"\"\n",
        "    deter = det(Mat)\n",
        "    if deter == 0:\n",
        "        raise ValueError(\"La matriz es singular y no tiene inversa.\")\n",
        "    Cofac = Cofactores(Mat)\n",
        "    Cofac = Transpuesta(Cofac)\n",
        "    Inversa = (1 / deter) * Cofac\n",
        "    return Inversa\n",
        "\n",
        "\n",
        "def SolveInv(Mat, vec):\n",
        "    \"\"\"\n",
        "    Resuelve un sistema de ecuaciones lineales usando la inversa de la matriz.\n",
        "\n",
        "    Parámetros:\n",
        "    Mat (np.array): Matriz de coeficientes.\n",
        "    vec (np.array): Vector de términos independientes.\n",
        "\n",
        "    Retorna:\n",
        "    np.array: Vector solución.\n",
        "    \"\"\"\n",
        "    InvMat = Inv(Mat)\n",
        "    Solucion = InvMat @ vec\n",
        "    return Solucion\n",
        "\n",
        "\n",
        "# Ejemplo de uso\n",
        "A = np.array([[1, 1, 1],\n",
        "              [1, -1, 2],\n",
        "              [3, 1, -1]])\n",
        "b = [15, 10, 25]\n",
        "\n",
        "print(\"Solución usando inversa:\", SolveInv(A, b))\n",
        "print(\"Solución usando paquetería:\", LA.solve(A, b))\n",
        "\n",
        "print(\"El vector solución 'x' del sistema es:\", cramer(A, b))"
      ],
      "metadata": {
        "colab": {
          "base_uri": "https://localhost:8080/"
        },
        "id": "Mngcigk5n-73",
        "outputId": "867f82a5-7a7b-4f8b-bdba-f92dd1d07134"
      },
      "execution_count": null,
      "outputs": [
        {
          "output_type": "stream",
          "name": "stdout",
          "text": [
            "Solución usando inversa: [8. 4. 3.]\n",
            "Solución usando paquetería: [8. 4. 3.]\n",
            "El vector solución 'x' del sistema es: [8 4 3]\n"
          ]
        }
      ]
    },
    {
      "cell_type": "code",
      "source": [
        "#Ejemplo2\n",
        "A = np.array([[1,1,1],\n",
        "              [1,-1,2],\n",
        "              [3,1,-1]])\n",
        "bp = [10,15,25]\n",
        "\n",
        "print(\"\\nEl vector solución 'x' del sistema2  es: \",cramer(A,bp))\n",
        "print(\"solucion inversa:\",SolveInv(A,bp))\n",
        "print(\"solucion paqueteria:\",LA.solve(A,bp))\n"
      ],
      "metadata": {
        "colab": {
          "base_uri": "https://localhost:8080/"
        },
        "id": "A_VOAXHiN9s1",
        "outputId": "a177e371-2870-46bd-dd97-8a03bbe521f2"
      },
      "execution_count": null,
      "outputs": [
        {
          "output_type": "stream",
          "name": "stdout",
          "text": [
            "\n",
            "El vector solución 'x' del sistema2  es:  [ 9 -1  2]\n",
            "solucion inversa: [ 9.5 -1.5  2. ]\n",
            "solucion paqueteria: [ 9.5 -1.5  2. ]\n"
          ]
        }
      ]
    }
  ]
}