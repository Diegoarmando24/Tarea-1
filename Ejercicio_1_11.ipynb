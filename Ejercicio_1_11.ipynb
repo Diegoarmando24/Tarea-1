{
  "nbformat": 4,
  "nbformat_minor": 0,
  "metadata": {
    "colab": {
      "provenance": []
    },
    "kernelspec": {
      "name": "python3",
      "display_name": "Python 3"
    },
    "language_info": {
      "name": "python"
    }
  },
  "cells": [
    {
      "cell_type": "code",
      "execution_count": null,
      "metadata": {
        "id": "2vyfluRlIGRP"
      },
      "outputs": [],
      "source": [
        "import numpy as np\n",
        "\n",
        "# Función para calcular la norma 2 de una matriz\n",
        "# La norma 2 de una fila se obtiene como la raíz cuadrada de la suma de los cuadrados de sus elementos\n",
        "def norma_2(A):\n",
        "    \"\"\"\n",
        "    Calcula la norma 2 de una matriz fila por fila.\n",
        "\n",
        "    Parámetros:\n",
        "    A : numpy.ndarray\n",
        "        Matriz de números representada como un arreglo de NumPy.\n",
        "\n",
        "    Retorna:\n",
        "    numpy.ndarray\n",
        "        Un arreglo con la norma 2 de cada fila de la matriz.\n",
        "    \"\"\"\n",
        "    return np.sqrt(np.sum(A**2, axis=1))\n",
        "\n",
        "# Ejemplo de uso\n",
        "A = np.array([[3, -2, 5], [1, -4, 2], [-2, 3, -1]])\n",
        "resultado = norma_2(A)\n",
        "print(\"Norma 2 de A por filas:\", resultado)"
      ]
    }
  ]
}