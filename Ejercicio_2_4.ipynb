{
  "nbformat": 4,
  "nbformat_minor": 0,
  "metadata": {
    "colab": {
      "provenance": []
    },
    "kernelspec": {
      "name": "python3",
      "display_name": "Python 3"
    },
    "language_info": {
      "name": "python"
    }
  },
  "cells": [
    {
      "cell_type": "code",
      "execution_count": null,
      "metadata": {
        "id": "7t-WF-zpI0k8"
      },
      "outputs": [],
      "source": [
        "import numpy as np\n",
        "\n",
        "# Implementación del algoritmo de Thomas con sustitución hacia adelante\n",
        "def Thomas_adelante(DP, DS, DI, b):\n",
        "    \"\"\"\n",
        "    Resuelve un sistema de ecuaciones tridiagonal utilizando el algoritmo de Thomas,\n",
        "    pero con sustitución hacia adelante en lugar de hacia atrás.\n",
        "\n",
        "    Parámetros:\n",
        "    DP : numpy.ndarray\n",
        "        Vector que representa la diagonal principal de la matriz tridiagonal.\n",
        "    DS : numpy.ndarray\n",
        "        Vector que representa la diagonal superior de la matriz tridiagonal.\n",
        "    DI : numpy.ndarray\n",
        "        Vector que representa la diagonal inferior de la matriz tridiagonal.\n",
        "    b : numpy.ndarray\n",
        "        Vector de términos independientes.\n",
        "\n",
        "    Retorna:\n",
        "    numpy.ndarray\n",
        "        Vector solución del sistema de ecuaciones.\n",
        "    \"\"\"\n",
        "    n = len(DP)\n",
        "    x = np.zeros(n)\n",
        "    DP, DS, DI, b = DP.copy(), DS.copy(), DI.copy(), b.copy()\n",
        "\n",
        "    # Eliminación hacia adelante\n",
        "    for i in range(1, n):\n",
        "        factor = DI[i-1] / DP[i-1]\n",
        "        DP[i] -= factor * DS[i-1]\n",
        "        b[i] -= factor * b[i-1]\n",
        "\n",
        "    # Sustitución hacia adelante\n",
        "    x[0] = b[0] / DP[0]\n",
        "    for i in range(1, n):\n",
        "        x[i] = (b[i] - DI[i-1] * x[i-1]) / DP[i]\n",
        "\n",
        "    return x\n",
        "\n",
        "# Ejemplo de uso\n",
        "DP = np.array([2.0, 2.0, 2.0, 2.0])  # Diagonal principal\n",
        "DS = np.array([-1.0, -1.0, -1.0])    # Diagonal superior\n",
        "DI = np.array([-1.0, -1.0, -1.0])    # Diagonal inferior\n",
        "b = np.array([1.0, 2.0, 3.0, 4.0])   # Vector b\n",
        "\n",
        "# Resolver el sistema tridiagonal utilizando el método de Thomas modificado\n",
        "solucion = Thomas_adelante(DP, DS, DI, b)\n",
        "print(\"Solución del sistema:\", solucion)\n"
      ]
    }
  ]
}