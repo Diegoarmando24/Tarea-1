{
  "nbformat": 4,
  "nbformat_minor": 0,
  "metadata": {
    "colab": {
      "provenance": [],
      "authorship_tag": "ABX9TyMuuThMAEXZ7Z3V4+iBfN6Z",
      "include_colab_link": true
    },
    "kernelspec": {
      "name": "python3",
      "display_name": "Python 3"
    },
    "language_info": {
      "name": "python"
    }
  },
  "cells": [
    {
      "cell_type": "markdown",
      "metadata": {
        "id": "view-in-github",
        "colab_type": "text"
      },
      "source": [
        "<a href=\"https://colab.research.google.com/github/Diegoarmando24/Tarea-1/blob/main/Producto_bloques.ipynb\" target=\"_parent\"><img src=\"https://colab.research.google.com/assets/colab-badge.svg\" alt=\"Open In Colab\"/></a>"
      ]
    },
    {
      "cell_type": "markdown",
      "source": [
        "# **Ejercicio 1.3**"
      ],
      "metadata": {
        "id": "Em2VnStFcXo0"
      }
    },
    {
      "cell_type": "code",
      "source": [
        "def producto_punto_bloques(v1, v2, block_size):\n",
        "    \"\"\"\n",
        "    Calcula el producto punto de dos vectores utilizando el método de bloques.\n",
        "\n",
        "    Parámetros:\n",
        "    v1 (list): Primer vector.\n",
        "    v2 (list): Segundo vector.\n",
        "    block_size (int): Tamaño de los bloques.\n",
        "\n",
        "    Retorna:\n",
        "    float: Resultado del producto punto.\n",
        "    \"\"\"\n",
        "    n = len(v1)\n",
        "    resultado = 0\n",
        "\n",
        "    for i in range(0, n, block_size):\n",
        "        suma_bloques = 0\n",
        "        for j in range(i, min(i + block_size, n)):\n",
        "            suma_bloques += v1[j] * v2[j]\n",
        "        resultado += suma_bloques\n",
        "\n",
        "    return resultado\n",
        "\n",
        "# Ejemplo de uso\n",
        "v1 = [1, 2, 3, 4, 5, 6, 7, 8, 9, 10]\n",
        "v2 = [10, 9, 8, 7, 6, 5, 4, 3, 2, 1]\n",
        "block_size = 3\n",
        "\n",
        "resultado = producto_punto_bloques(v1, v2, block_size)\n",
        "print(resultado)"
      ],
      "metadata": {
        "colab": {
          "base_uri": "https://localhost:8080/"
        },
        "id": "uR7TaYh5IaSr",
        "outputId": "ccd83dea-f043-4fcd-8e6f-9ee62f84fc65"
      },
      "execution_count": 1,
      "outputs": [
        {
          "output_type": "stream",
          "name": "stdout",
          "text": [
            "220\n"
          ]
        }
      ]
    }
  ]
}