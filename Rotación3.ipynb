{
  "nbformat": 4,
  "nbformat_minor": 0,
  "metadata": {
    "colab": {
      "provenance": [],
      "authorship_tag": "ABX9TyOakQY1HqDgCuUFzDZhEuhp",
      "include_colab_link": true
    },
    "kernelspec": {
      "name": "python3",
      "display_name": "Python 3"
    },
    "language_info": {
      "name": "python"
    }
  },
  "cells": [
    {
      "cell_type": "markdown",
      "metadata": {
        "id": "view-in-github",
        "colab_type": "text"
      },
      "source": [
        "<a href=\"https://colab.research.google.com/github/Diegoarmando24/Tarea-1/blob/main/Rotaci%C3%B3n3.ipynb\" target=\"_parent\"><img src=\"https://colab.research.google.com/assets/colab-badge.svg\" alt=\"Open In Colab\"/></a>"
      ]
    },
    {
      "cell_type": "code",
      "execution_count": null,
      "metadata": {
        "id": "iwiFMiaRD-ad"
      },
      "outputs": [],
      "source": []
    },
    {
      "cell_type": "markdown",
      "source": [
        "#**Ejercicio 1.8**"
      ],
      "metadata": {
        "id": "CtwDL9Nqz2ha"
      }
    },
    {
      "cell_type": "code",
      "source": [
        "import math\n",
        "\n",
        "def rotar_vector_3d(vector, angulo_grados, eje):\n",
        "    \"\"\"\n",
        "    Rota un vector tridimensional alrededor de uno de los ejes principales.\n",
        "\n",
        "    Parámetros:\n",
        "    vector (tuple): Vector en la forma (x, y, z).\n",
        "    angulo_grados (float): Ángulo de rotación en grados.\n",
        "    eje (str): Eje de rotación ('x', 'y' o 'z').\n",
        "\n",
        "    Retorna:\n",
        "    tuple: Nuevo vector rotado (x', y', z').\n",
        "    \"\"\"\n",
        "    angulo_radianes = math.radians(angulo_grados)\n",
        "    cos_theta = math.cos(angulo_radianes)\n",
        "    sin_theta = math.sin(angulo_radianes)\n",
        "\n",
        "    x, y, z = vector\n",
        "\n",
        "    if eje == 'x':\n",
        "        y_nuevo = y * cos_theta - z * sin_theta\n",
        "        z_nuevo = y * sin_theta + z * cos_theta\n",
        "        x_nuevo = x\n",
        "    elif eje == 'y':\n",
        "        x_nuevo = x * cos_theta + z * sin_theta\n",
        "        z_nuevo = -x * sin_theta + z * cos_theta\n",
        "        y_nuevo = y\n",
        "    elif eje == 'z':\n",
        "        x_nuevo = x * cos_theta - y * sin_theta\n",
        "        y_nuevo = x * sin_theta + y * cos_theta\n",
        "        z_nuevo = z\n",
        "    else:\n",
        "        raise ValueError(\"El eje debe ser 'x', 'y' o 'z'.\")\n",
        "\n",
        "    return (x_nuevo, y_nuevo, z_nuevo)\n",
        "\n",
        "# Ejemplo de uso:\n",
        "vector_original = (1, 0, 0)\n",
        "angulo_rotacion = 90 # grados\n",
        "eje_rotacion = 'z'\n",
        "vector_rotado = rotar_vector_3d(vector_original, angulo_rotacion, eje_rotacion)\n",
        "print(f\"Vector original: {vector_original}\")\n",
        "print(f\"Vector rotado por {angulo_rotacion}° alrededor del eje {eje_rotacion}: {vector_rotado}\")"
      ],
      "metadata": {
        "colab": {
          "base_uri": "https://localhost:8080/"
        },
        "id": "MfQulJXTQ_0R",
        "outputId": "c257cd9f-9438-4140-9335-9453aee4e1b5"
      },
      "execution_count": null,
      "outputs": [
        {
          "output_type": "stream",
          "name": "stdout",
          "text": [
            "Vector original: (1, 0, 0)\n",
            "Vector rotado por 90° alrededor del eje z: (6.123233995736766e-17, 1.0, 0)\n"
          ]
        }
      ]
    }
  ]
}