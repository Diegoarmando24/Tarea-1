{
  "nbformat": 4,
  "nbformat_minor": 0,
  "metadata": {
    "colab": {
      "provenance": [],
      "authorship_tag": "ABX9TyMT6Zsa/kclQLtXI+oHjAuv",
      "include_colab_link": true
    },
    "kernelspec": {
      "name": "python3",
      "display_name": "Python 3"
    },
    "language_info": {
      "name": "python"
    }
  },
  "cells": [
    {
      "cell_type": "markdown",
      "metadata": {
        "id": "view-in-github",
        "colab_type": "text"
      },
      "source": [
        "<a href=\"https://colab.research.google.com/github/Diegoarmando24/Tarea-1/blob/main/Multiplicaci%C3%B3n_bloques.ipynb\" target=\"_parent\"><img src=\"https://colab.research.google.com/assets/colab-badge.svg\" alt=\"Open In Colab\"/></a>"
      ]
    },
    {
      "cell_type": "markdown",
      "source": [
        "# **Tarea 1**\n",
        "*Integrantes:*\n",
        "\n",
        "\n",
        "*   Castillo Saldivar Paola\n",
        "*   Islas Castro Diego Armando\n",
        "*   Maldonado Cruz Josué Iván    \n",
        "\n"
      ],
      "metadata": {
        "id": "sqx5GUbMo8fY"
      }
    },
    {
      "cell_type": "markdown",
      "source": [
        "# **Ejercicio 1.1**\n"
      ],
      "metadata": {
        "id": "EC7hNcKlqnJr"
      }
    },
    {
      "cell_type": "code",
      "source": [
        "import numpy as np\n",
        "import time\n",
        "\n",
        "def dividir_matriz_en_bloques(M, tamano_bloque):\n",
        "    \"\"\"\n",
        "    Divide una matriz en bloques de un tamaño específico.\n",
        "\n",
        "    Parámetros:\n",
        "    M (list): Matriz cuadrada a dividir.\n",
        "    tamano_bloque (int): Tamaño de cada bloque.\n",
        "\n",
        "    Retorna:\n",
        "    list: Lista de bloques de la matriz.\n",
        "    \"\"\"\n",
        "    bloques = []\n",
        "    n = len(M)\n",
        "    for i in range(0, n, tamano_bloque):\n",
        "        fila_bloques = []\n",
        "        for j in range(0, n, tamano_bloque):\n",
        "            bloque = [fila[j:j+tamano_bloque] for fila in M[i:i+tamano_bloque]]\n",
        "            fila_bloques.append(bloque)\n",
        "        bloques.append(fila_bloques)\n",
        "    return bloques\n",
        "\n",
        "def multiplicacion_bloques(A, B, tamano_bloque):\n",
        "    \"\"\"\n",
        "    Multiplica dos matrices utilizando el método de bloques.\n",
        "\n",
        "    Parámetros:\n",
        "    A (list): Primera matriz.\n",
        "    B (list): Segunda matriz.\n",
        "    tamano_bloque (int): Tamaño de los bloques.\n",
        "\n",
        "    Retorna:\n",
        "    np.array: Matriz resultante de la multiplicación.\n",
        "    \"\"\"\n",
        "    n = len(A)\n",
        "    C = np.zeros((n, n))\n",
        "    bloques_A = dividir_matriz_en_bloques(A, tamano_bloque)\n",
        "    bloques_B = dividir_matriz_en_bloques(B, tamano_bloque)\n",
        "    num_bloques = len(bloques_A)\n",
        "\n",
        "    for i in range(num_bloques):\n",
        "        for j in range(num_bloques):\n",
        "            for k in range(num_bloques):\n",
        "                for bi in range(tamano_bloque):\n",
        "                    for bj in range(tamano_bloque):\n",
        "                        suma = 0\n",
        "                        for bk in range(tamano_bloque):\n",
        "                            suma += bloques_A[i][k][bi][bk] * bloques_B[k][j][bk][bj]\n",
        "                        C[i*tamano_bloque + bi][j*tamano_bloque + bj] += suma\n",
        "    return C\n",
        "\n",
        "def MultMat(Mat1, Mat2):\n",
        "    \"\"\"\n",
        "    Multiplica dos matrices usando el algoritmo tradicional.\n",
        "\n",
        "    Parámetros:\n",
        "    Mat1 (np.array): Primera matriz.\n",
        "    Mat2 (np.array): Segunda matriz.\n",
        "\n",
        "    Retorna:\n",
        "    np.array: Matriz resultante de la multiplicación.\n",
        "    \"\"\"\n",
        "    Mat3 = np.zeros((Mat1.shape[0], Mat2.shape[1]))\n",
        "    for row in range(Mat1.shape[0]):\n",
        "        for col in range(Mat2.shape[1]):\n",
        "            for aux in range(Mat2.shape[0]):\n",
        "                Mat3[row, col] += Mat1[row, aux] * Mat2[aux, col]\n",
        "    return Mat3\n",
        "\n",
        "def comparar_multiplicaciones(n, block_size):\n",
        "    \"\"\"\n",
        "    Compara los tiempos de ejecución de la multiplicación tradicional y por bloques.\n",
        "\n",
        "    Parámetros:\n",
        "    n (int): Tamaño de las matrices.\n",
        "    block_size (int): Tamaño de los bloques.\n",
        "    \"\"\"\n",
        "    A = np.random.rand(n, n)\n",
        "    B = np.random.rand(n, n)\n",
        "\n",
        "    start = time.time()\n",
        "    C_normal = MultMat(A, B)\n",
        "    time_normal = time.time() - start\n",
        "\n",
        "    start = time.time()\n",
        "    C_blocks = multiplicacion_bloques(A, B, block_size)\n",
        "    time_blocks = time.time() - start\n",
        "\n",
        "    print(f\"Tamaño de la matriz: {n}x{n}\")\n",
        "    print(f\"Tiempo multiplicación normal: {time_normal:.6f} s\")\n",
        "    print(f\"Tiempo multiplicación por bloques: {time_blocks:.6f} s\")\n",
        "    print(f\"Mejor tiempo: {'Bloques' if time_blocks < time_normal else 'Normal'}\\n\")\n",
        "\n",
        "# Ejecutar comparaciones para tamaños de matrices de 10 a 100\n",
        "block_size = 10\n",
        "for n in range(10, 101, 10):\n",
        "    comparar_multiplicaciones(n, block_size)"
      ],
      "metadata": {
        "colab": {
          "base_uri": "https://localhost:8080/"
        },
        "id": "NX5V23bWFkjf",
        "outputId": "61e2ec6c-323a-4a51-9dc2-150be5adf2f6"
      },
      "execution_count": 1,
      "outputs": [
        {
          "output_type": "stream",
          "name": "stdout",
          "text": [
            "Tamaño de la matriz: 10x10\n",
            "Tiempo multiplicación normal: 0.004050 s\n",
            "Tiempo multiplicación por bloques: 0.001274 s\n",
            "Mejor tiempo: Bloques\n",
            "\n",
            "Tamaño de la matriz: 20x20\n",
            "Tiempo multiplicación normal: 0.025831 s\n",
            "Tiempo multiplicación por bloques: 0.012149 s\n",
            "Mejor tiempo: Bloques\n",
            "\n",
            "Tamaño de la matriz: 30x30\n",
            "Tiempo multiplicación normal: 0.069040 s\n",
            "Tiempo multiplicación por bloques: 0.084277 s\n",
            "Mejor tiempo: Normal\n",
            "\n",
            "Tamaño de la matriz: 40x40\n",
            "Tiempo multiplicación normal: 0.197755 s\n",
            "Tiempo multiplicación por bloques: 0.108554 s\n",
            "Mejor tiempo: Bloques\n",
            "\n",
            "Tamaño de la matriz: 50x50\n",
            "Tiempo multiplicación normal: 0.392437 s\n",
            "Tiempo multiplicación por bloques: 0.199095 s\n",
            "Mejor tiempo: Bloques\n",
            "\n",
            "Tamaño de la matriz: 60x60\n",
            "Tiempo multiplicación normal: 0.567483 s\n",
            "Tiempo multiplicación por bloques: 0.402356 s\n",
            "Mejor tiempo: Bloques\n",
            "\n",
            "Tamaño de la matriz: 70x70\n",
            "Tiempo multiplicación normal: 0.686811 s\n",
            "Tiempo multiplicación por bloques: 0.316353 s\n",
            "Mejor tiempo: Bloques\n",
            "\n",
            "Tamaño de la matriz: 80x80\n",
            "Tiempo multiplicación normal: 1.071715 s\n",
            "Tiempo multiplicación por bloques: 0.882677 s\n",
            "Mejor tiempo: Bloques\n",
            "\n",
            "Tamaño de la matriz: 90x90\n",
            "Tiempo multiplicación normal: 1.662302 s\n",
            "Tiempo multiplicación por bloques: 0.994153 s\n",
            "Mejor tiempo: Bloques\n",
            "\n",
            "Tamaño de la matriz: 100x100\n",
            "Tiempo multiplicación normal: 1.447208 s\n",
            "Tiempo multiplicación por bloques: 0.738808 s\n",
            "Mejor tiempo: Bloques\n",
            "\n"
          ]
        }
      ]
    }
  ]
}