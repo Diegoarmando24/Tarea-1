{
  "nbformat": 4,
  "nbformat_minor": 0,
  "metadata": {
    "colab": {
      "provenance": [],
      "authorship_tag": "ABX9TyN792hoVOqRWUUSe04ygp3y",
      "include_colab_link": true
    },
    "kernelspec": {
      "name": "python3",
      "display_name": "Python 3"
    },
    "language_info": {
      "name": "python"
    }
  },
  "cells": [
    {
      "cell_type": "markdown",
      "metadata": {
        "id": "view-in-github",
        "colab_type": "text"
      },
      "source": [
        "<a href=\"https://colab.research.google.com/github/Diegoarmando24/Tarea-1/blob/main/Suma_bloques.ipynb\" target=\"_parent\"><img src=\"https://colab.research.google.com/assets/colab-badge.svg\" alt=\"Open In Colab\"/></a>"
      ]
    },
    {
      "cell_type": "markdown",
      "source": [
        "# **Ejercicio 1.2**"
      ],
      "metadata": {
        "id": "bm4w8Hcqqt0j"
      }
    },
    {
      "cell_type": "code",
      "source": [
        "def suma_bloques(A, B, block_size):\n",
        "    \"\"\"\n",
        "    Suma dos matrices utilizando el método de bloques.\n",
        "\n",
        "    Parámetros:\n",
        "    A (list): Primera matriz.\n",
        "    B (list): Segunda matriz.\n",
        "    block_size (int): Tamaño de los bloques.\n",
        "\n",
        "    Retorna:\n",
        "    list: Matriz resultante de la suma.\n",
        "    \"\"\"\n",
        "    n = len(A)\n",
        "    C = [[0 for _ in range(n)] for _ in range(n)]  # Inicializa la matriz C\n",
        "\n",
        "    for i in range(0, n, block_size):\n",
        "        for j in range(0, n, block_size):\n",
        "            for bi in range(i, min(i + block_size, n)):\n",
        "                for bj in range(j, min(j + block_size, n)):\n",
        "                    C[bi][bj] = A[bi][bj] + B[bi][bj]\n",
        "    return C\n",
        "\n",
        "# Ejemplo de matrices 4x4\n",
        "A = [\n",
        "    [1, 2, 3, 4],\n",
        "    [5, 6, 7, 8],\n",
        "    [9, 10, 11, 12],\n",
        "    [13, 14, 15, 16]\n",
        "]\n",
        "\n",
        "B = [\n",
        "    [16, 15, 14, 13],\n",
        "    [12, 11, 10, 9],\n",
        "    [8, 7, 6, 5],\n",
        "    [4, 3, 2, 1]\n",
        "]\n",
        "\n",
        "# Tamaño del bloque\n",
        "block_size = 2\n",
        "\n",
        "# Sumar las matrices\n",
        "C = suma_bloques(A, B, block_size)\n",
        "\n",
        "# Imprimir la matriz resultante\n",
        "for fila in C:\n",
        "    print(fila)"
      ],
      "metadata": {
        "colab": {
          "base_uri": "https://localhost:8080/"
        },
        "id": "RVxrxs-5IB6Q",
        "outputId": "0634ac9d-b7c7-415d-9426-36f134bf6780"
      },
      "execution_count": 1,
      "outputs": [
        {
          "output_type": "stream",
          "name": "stdout",
          "text": [
            "[17, 17, 17, 17]\n",
            "[17, 17, 17, 17]\n",
            "[17, 17, 17, 17]\n",
            "[17, 17, 17, 17]\n"
          ]
        }
      ]
    }
  ]
}