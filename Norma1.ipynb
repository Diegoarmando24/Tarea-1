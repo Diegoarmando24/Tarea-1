{
  "nbformat": 4,
  "nbformat_minor": 0,
  "metadata": {
    "colab": {
      "provenance": [],
      "authorship_tag": "ABX9TyN/tvjwfjHZ2QPQz/18QIja",
      "include_colab_link": true
    },
    "kernelspec": {
      "name": "python3",
      "display_name": "Python 3"
    },
    "language_info": {
      "name": "python"
    }
  },
  "cells": [
    {
      "cell_type": "markdown",
      "metadata": {
        "id": "view-in-github",
        "colab_type": "text"
      },
      "source": [
        "<a href=\"https://colab.research.google.com/github/Diegoarmando24/Tarea-1/blob/main/Norma1.ipynb\" target=\"_parent\"><img src=\"https://colab.research.google.com/assets/colab-badge.svg\" alt=\"Open In Colab\"/></a>"
      ]
    },
    {
      "cell_type": "code",
      "execution_count": null,
      "metadata": {
        "id": "25bVhG4PEIwW"
      },
      "outputs": [],
      "source": []
    },
    {
      "cell_type": "markdown",
      "source": [
        "# **Ejercicio 1.9**"
      ],
      "metadata": {
        "id": "LFJnbur5Eatl"
      }
    },
    {
      "cell_type": "code",
      "source": [
        "def norma1(matriz):\n",
        "    \"\"\"\n",
        "    Calcula la norma 1 de una matriz.\n",
        "\n",
        "    La norma 1 de una matriz es el máximo de las sumas absolutas de sus columnas.\n",
        "\n",
        "    Parámetros:\n",
        "    matriz (list of list): Matriz de entrada.\n",
        "\n",
        "    Retorna:\n",
        "    float: Valor de la norma 1.\n",
        "    \"\"\"\n",
        "    m = len(matriz)\n",
        "    n = len(matriz[0])\n",
        "    c = np.zeros_like(matriz[0])\n",
        "\n",
        "    for j in range(n):\n",
        "        for i in range(m):\n",
        "            c[j] += abs(matriz[i][j])\n",
        "\n",
        "    return max(c)\n",
        "\n",
        "\n",
        "# Ejemplo de uso\n",
        "A = [[2, 3, -4],\n",
        "     [0, -4, 2]]\n",
        "\n",
        "print(\"La norma 1 de la matriz A:\\n\", A)\n",
        "print(\"Es:\", norma1(A))"
      ],
      "metadata": {
        "colab": {
          "base_uri": "https://localhost:8080/"
        },
        "id": "xnbhgmzHn2hM",
        "outputId": "e8577877-01cb-485c-f84a-bb833f0809d4"
      },
      "execution_count": null,
      "outputs": [
        {
          "output_type": "stream",
          "name": "stdout",
          "text": [
            "La norma 1 de la matriz A:\n",
            " [[2, 3, -4], [0, -4, 2]]\n",
            "Es: 7\n"
          ]
        }
      ]
    }
  ]
}