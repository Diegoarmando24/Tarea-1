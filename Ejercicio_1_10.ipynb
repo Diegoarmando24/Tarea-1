{
  "nbformat": 4,
  "nbformat_minor": 0,
  "metadata": {
    "colab": {
      "provenance": []
    },
    "kernelspec": {
      "name": "python3",
      "display_name": "Python 3"
    },
    "language_info": {
      "name": "python"
    }
  },
  "cells": [
    {
      "cell_type": "code",
      "execution_count": null,
      "metadata": {
        "id": "jbtm1RrpHejQ"
      },
      "outputs": [],
      "source": [
        "def norma_infinito(matriz):\n",
        "    \"\"\"\n",
        "    Calcula la norma infinito de una matriz.\n",
        "    La norma infinito es el máximo de la suma de los valores absolutos de los elementos de cada fila.\n",
        "\n",
        "    Parámetros:\n",
        "    matriz : list[list[int or float]]\n",
        "        Matriz de números representada como una lista de listas.\n",
        "\n",
        "    Retorna:\n",
        "    float\n",
        "        La norma infinito de la matriz.\n",
        "    \"\"\"\n",
        "    return max(sum(abs(matriz[i][j]) for j in range(len(matriz[0]))) for i in range(len(matriz)))\n",
        "\n",
        "# Ejemplo de uso\n",
        "A = [[3, -2, 5], [1, -4, 2], [-2, 3, -1]]\n",
        "print(\"Norma infinito de A:\", norma_infinito(A))"
      ]
    }
  ]
}